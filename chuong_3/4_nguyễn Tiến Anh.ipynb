{
 "cells": [
  {
   "cell_type": "markdown",
   "id": "2d3c5998",
   "metadata": {},
   "source": [
    "Câu 1: Hãy viết câu lệnh SQL để tính sự tương quan giữa A và B theo công thức sau\n"
   ]
  },
  {
   "cell_type": "code",
   "execution_count": 5,
   "id": "57d5bf12",
   "metadata": {},
   "outputs": [
    {
     "name": "stdout",
     "output_type": "stream",
     "text": [
      "Hệ số tương quan giữa a và b là (tính bằng SQL): -0.7294\n"
     ]
    }
   ],
   "source": [
    "import sqlite3\n",
    "import pandas as pd\n",
    "import math\n",
    "\n",
    "# Tạo DataFrame ban đầu\n",
    "df = pd.DataFrame({\n",
    "    'a': [5, 6, 4, 2, 5],\n",
    "    'b': [2, 5, 6, 9, 1]\n",
    "})\n",
    "\n",
    "# Kết nối đến database SQLite\n",
    "conn = sqlite3.connect(\"correlation_calc.db\")\n",
    "cursor = conn.cursor()\n",
    "\n",
    "# Đăng ký hàm SQRT cho SQLite\n",
    "conn.create_function('SQRT', 1, math.sqrt)\n",
    "\n",
    "# Tạo bảng và chèn dữ liệu\n",
    "cursor.execute('DROP TABLE IF EXISTS data_table')\n",
    "cursor.execute('''\n",
    "    CREATE TABLE data_table (\n",
    "        id INTEGER PRIMARY KEY AUTOINCREMENT,\n",
    "        a REAL,\n",
    "        b REAL\n",
    "    )\n",
    "''')\n",
    "df.to_sql('data_table', conn, if_exists='append', index=False)\n",
    "\n",
    "# Truy vấn SQL tính hệ số tương quan Pearson\n",
    "query = '''\n",
    "SELECT \n",
    "    (COUNT(*) * SUM(a * b) - SUM(a) * SUM(b)) / \n",
    "    (SQRT(COUNT(*) * SUM(a * a) - POWER(SUM(a), 2)) * \n",
    "     SQRT(COUNT(*) * SUM(b * b) - POWER(SUM(b), 2))) AS correlation\n",
    "FROM data_table\n",
    "'''\n",
    "cursor.execute(query)\n",
    "correlation, = cursor.fetchone()\n",
    "\n",
    "# In kết quả\n",
    "print(f\"Hệ số tương quan giữa a và b là (tính bằng SQL): {correlation:.4f}\")\n",
    "\n",
    "# Đóng kết nối\n",
    "conn.close()\n"
   ]
  },
  {
   "cell_type": "markdown",
   "id": "682a50fd",
   "metadata": {},
   "source": [
    "Câu 2: Một công ty oto đang kiểm tra 3 loại mẫu mới A, B và C trong 4 ngày, và chấm điểm theo thang từ 1\n",
    "đến 10 điểm cho mỗi ngày với bảng sau. Liệu có sự khác biệt đáng kể giữa các mẫu dựa trên điểm số mà\n",
    "chúng nhận được trong 4 ngày thử nghiệm không? Kết quả thử nghiệm phụ thuộc vào ngày hay phụ thuộc vào\n",
    "mẫu xe? Hãy chuyển đổi dữ liệu sang dạng quan hệ và thực hiện kiểm tra χ2."
   ]
  },
  {
   "cell_type": "code",
   "execution_count": 7,
   "id": "1a5f8909",
   "metadata": {},
   "outputs": [
    {
     "name": "stdout",
     "output_type": "stream",
     "text": [
      "=== Kiểm định Chi-Square: Model vs Level ===\n",
      "Level  High  Low  Medium\n",
      "Model                   \n",
      "A         0    1       3\n",
      "B         2    1       1\n",
      "C         0    1       3\n",
      "Chi2 = 5.1429, p-value = 0.2730\n",
      "\n",
      "=== Kiểm định Chi-Square: Day vs Level ===\n",
      "Level  High  Low  Medium\n",
      "Day                     \n",
      "Day 1     1    0       2\n",
      "Day 2     1    0       2\n",
      "Day 3     0    1       2\n",
      "Day 4     0    2       1\n",
      "Chi2 = 6.0952, p-value = 0.4126\n"
     ]
    }
   ],
   "source": [
    "import sqlite3\n",
    "import pandas as pd\n",
    "from scipy.stats import chi2_contingency\n",
    "\n",
    "# Bước 1: Dữ liệu gốc\n",
    "data = {\n",
    "    'Day': ['Day 1']*3 + ['Day 2']*3 + ['Day 3']*3 + ['Day 4']*3,\n",
    "    'Model': ['A', 'B', 'C'] * 4,\n",
    "    'Score': [8, 9, 7, 7.5, 8.5, 7, 6, 7, 8, 7, 6, 5]\n",
    "}\n",
    "df = pd.DataFrame(data)\n",
    "\n",
    "# Bước 2: Phân loại mức điểm\n",
    "def categorize(score):\n",
    "    if score <= 6:\n",
    "        return 'Low'\n",
    "    elif score <= 8:\n",
    "        return 'Medium'\n",
    "    else:\n",
    "        return 'High'\n",
    "\n",
    "df['Level'] = df['Score'].apply(categorize)\n",
    "\n",
    "# Bước 3: Lưu vào SQLite\n",
    "conn = sqlite3.connect(\"car_score.db\")\n",
    "df.to_sql(\"car_scores\", conn, if_exists='replace', index=False)\n",
    "\n",
    "# Bước 4: Truy vấn lại từ SQLite\n",
    "df_sql = pd.read_sql_query(\"SELECT * FROM car_scores\", conn)\n",
    "\n",
    "# Bước 5: Tạo bảng tần suất cho Chi-Square test\n",
    "ct_model = pd.crosstab(df_sql['Model'], df_sql['Level'])\n",
    "ct_day = pd.crosstab(df_sql['Day'], df_sql['Level'])\n",
    "\n",
    "# Bước 6: Thực hiện kiểm định Chi-Square\n",
    "chi2_model, p_model, _, _ = chi2_contingency(ct_model)\n",
    "chi2_day, p_day, _, _ = chi2_contingency(ct_day)\n",
    "\n",
    "# Bước 7: In kết quả\n",
    "print(\"=== Kiểm định Chi-Square: Model vs Level ===\")\n",
    "print(ct_model)\n",
    "print(f\"Chi2 = {chi2_model:.4f}, p-value = {p_model:.4f}\\n\")\n",
    "\n",
    "print(\"=== Kiểm định Chi-Square: Day vs Level ===\")\n",
    "print(ct_day)\n",
    "print(f\"Chi2 = {chi2_day:.4f}, p-value = {p_day:.4f}\")\n",
    "\n",
    "conn.close()\n"
   ]
  },
  {
   "cell_type": "markdown",
   "id": "def3be0a",
   "metadata": {},
   "source": [
    "Câu 3: Bảng flights(departure_time,…) chứa các giá trị thời gian dưới dạng số nguyên (ví dụ: 830 cho 8:30\n",
    "AM, 1445 cho 2:45 PM). Hãy chuyển đổi các giá trị này thành định dạng thời gian."
   ]
  },
  {
   "cell_type": "code",
   "execution_count": 16,
   "id": "460c2375",
   "metadata": {},
   "outputs": [
    {
     "name": "stdout",
     "output_type": "stream",
     "text": [
      "   departure_time formatted_time\n",
      "0             830          08:30\n",
      "1            1015          10:15\n",
      "2            1230          12:30\n",
      "3            1445          14:45\n",
      "4            1600          16:00\n",
      "5            1730          17:30\n",
      "6            2000          20:00\n"
     ]
    }
   ],
   "source": [
    "import sqlite3\n",
    "import pandas as pd\n",
    "\n",
    "# Kết nối đến database\n",
    "conn = sqlite3.connect(\"flights.db\")\n",
    "\n",
    "# Truy vấn SQL chuyển đổi định dạng thời gian\n",
    "query = \"\"\"\n",
    "SELECT \n",
    "    departure_time,\n",
    "    printf('%02d:%02d', departure_time / 100, departure_time % 100) AS formatted_time\n",
    "FROM flights\n",
    "\"\"\"\n",
    "\n",
    "# Thực hiện truy vấn và lấy kết quả bằng pandas\n",
    "df = pd.read_sql_query(query, conn)\n",
    "print(df)\n",
    "\n",
    "# Đóng kết nối\n",
    "conn.close()\n"
   ]
  },
  {
   "cell_type": "markdown",
   "id": "6690950b",
   "metadata": {},
   "source": [
    "Câu 4: Viết truy vấn SQL để tìm các ngoại lệ bằng cách sử dụng MAD. Một quy tắc chung là xem xét các giá\n",
    "trị ngoại lệ lớn hơn 1,5 lần so với giá trị MAD, trong đó x là số độ lệch chuẩn mà ta coi là có ý nghĩa.\n"
   ]
  },
  {
   "cell_type": "code",
   "execution_count": 17,
   "id": "f8db5aa9",
   "metadata": {},
   "outputs": [
    {
     "name": "stdout",
     "output_type": "stream",
     "text": [
      "   departure_delay  outlier\n",
      "0                5    False\n",
      "1               -2    False\n",
      "2               10    False\n",
      "3               45     True\n",
      "4               60     True\n",
      "5               -5    False\n",
      "6               90     True\n",
      "\n",
      " Các điểm ngoại lệ:\n",
      "   departure_delay  outlier\n",
      "3               45     True\n",
      "4               60     True\n",
      "6               90     True\n"
     ]
    }
   ],
   "source": [
    "import sqlite3\n",
    "import pandas as pd\n",
    "\n",
    "# Kết nối (tạo mới nếu chưa có)\n",
    "conn = sqlite3.connect(\"flights.db\")\n",
    "cursor = conn.cursor()\n",
    "\n",
    "# Tạo bảng flights với dữ liệu mẫu\n",
    "cursor.execute(\"DROP TABLE IF EXISTS flights\")\n",
    "cursor.execute(\"\"\"\n",
    "    CREATE TABLE flights (\n",
    "        flight_id INTEGER PRIMARY KEY,\n",
    "        departure_time INTEGER,\n",
    "        departure_delay INTEGER\n",
    "    )\n",
    "\"\"\")\n",
    "\n",
    "# Dữ liệu mẫu\n",
    "data = [\n",
    "    (830, 5),\n",
    "    (1015, -2),\n",
    "    (1230, 10),\n",
    "    (1445, 45),\n",
    "    (1600, 60),\n",
    "    (1730, -5),\n",
    "    (2000, 90)\n",
    "]\n",
    "\n",
    "# Chèn dữ liệu\n",
    "cursor.executemany(\"INSERT INTO flights (departure_time, departure_delay) VALUES (?, ?)\", data)\n",
    "conn.commit()\n",
    "# Đọc lại bảng để tính MAD\n",
    "df = pd.read_sql_query(\"SELECT departure_delay FROM flights\", conn)\n",
    "\n",
    "import numpy as np\n",
    "\n",
    "median = np.median(df['departure_delay'])\n",
    "mad = np.median(np.abs(df['departure_delay'] - median))\n",
    "\n",
    "# Tìm outliers\n",
    "df['outlier'] = np.abs(df['departure_delay'] - median) > 1.5 * mad\n",
    "print(df)\n",
    "print(\"\\n Các điểm ngoại lệ:\")\n",
    "print(df[df['outlier']])\n"
   ]
  },
  {
   "cell_type": "markdown",
   "id": "af0596cc",
   "metadata": {},
   "source": [
    "Câu 5: Hãy xác định liệu hai người trong bảng Patient(last_name, weight, height) có phải là một người hay\n",
    "không bằng cách sử dụng khoảng cách kết hợp Boolean trên “last_name” và “weight”."
   ]
  },
  {
   "cell_type": "code",
   "execution_count": 13,
   "id": "3ce2851a",
   "metadata": {},
   "outputs": [
    {
     "name": "stdout",
     "output_type": "stream",
     "text": [
      "    name1   name2  weight1  weight2  weight_diff\n",
      "0  Nguyen  Nguyen     60.0     63.0          3.0\n",
      "1      Le      Le     50.0     52.0          2.0\n"
     ]
    }
   ],
   "source": [
    "import sqlite3\n",
    "import pandas as pd\n",
    "\n",
    "# Kết nối đến database\n",
    "conn = sqlite3.connect(\"flights.db\")\n",
    "cursor = conn.cursor()\n",
    "\n",
    "# Tạo bảng Patient và thêm dữ liệu mẫu nếu cần\n",
    "cursor.execute(\"DROP TABLE IF EXISTS Patient\")\n",
    "cursor.execute(\"\"\"\n",
    "    CREATE TABLE Patient (\n",
    "        id INTEGER PRIMARY KEY AUTOINCREMENT,\n",
    "        last_name TEXT,\n",
    "        weight REAL,\n",
    "        height REAL\n",
    "    )\n",
    "\"\"\")\n",
    "\n",
    "# Thêm vài bệnh nhân có cùng họ và cân nặng gần giống\n",
    "sample_data = [\n",
    "    (\"Nguyen\", 60, 165),\n",
    "    (\"Nguyen\", 63, 167),\n",
    "    (\"Tran\", 70, 175),\n",
    "    (\"Tran\", 85, 180),\n",
    "    (\"Le\", 50, 160),\n",
    "    (\"Le\", 52, 158)\n",
    "]\n",
    "cursor.executemany(\"INSERT INTO Patient (last_name, weight, height) VALUES (?, ?, ?)\", sample_data)\n",
    "conn.commit()\n",
    "\n",
    "# Truy vấn xác định những người có thể là trùng (cùng họ, cân nặng gần nhau)\n",
    "query = \"\"\"\n",
    "SELECT \n",
    "    p1.last_name AS name1,\n",
    "    p2.last_name AS name2,\n",
    "    p1.weight AS weight1,\n",
    "    p2.weight AS weight2,\n",
    "    ABS(p1.weight - p2.weight) AS weight_diff\n",
    "FROM Patient p1\n",
    "JOIN Patient p2\n",
    "  ON p1.rowid < p2.rowid\n",
    "WHERE p1.last_name = p2.last_name\n",
    "  AND ABS(p1.weight - p2.weight) <= 5;\n",
    "\"\"\"\n",
    "\n",
    "# Thực hiện truy vấn và hiển thị\n",
    "df = pd.read_sql_query(query, conn)\n",
    "print(df)\n",
    "\n",
    "# Đóng kết nối\n",
    "conn.close()\n",
    "\n"
   ]
  }
 ],
 "metadata": {
  "kernelspec": {
   "display_name": "Python 3",
   "language": "python",
   "name": "python3"
  },
  "language_info": {
   "codemirror_mode": {
    "name": "ipython",
    "version": 3
   },
   "file_extension": ".py",
   "mimetype": "text/x-python",
   "name": "python",
   "nbconvert_exporter": "python",
   "pygments_lexer": "ipython3",
   "version": "3.13.0"
  }
 },
 "nbformat": 4,
 "nbformat_minor": 5
}
